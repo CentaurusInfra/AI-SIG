{
 "cells": [
  {
   "cell_type": "code",
   "execution_count": 14,
   "metadata": {},
   "outputs": [],
   "source": [
    "from pymongo.mongo_client import MongoClient\n",
    "\n",
    "client = MongoClient(host=\"localhost\", port=27017)\n",
    "job_col = client.Cacher.Job\n",
    "client_col = client.Cacher.Client"
   ]
  },
  {
   "cell_type": "code",
   "execution_count": 2,
   "metadata": {},
   "outputs": [],
   "source": [
    "jobInfo = [\n",
    "    {\n",
    "        \"meta\": {\n",
    "            \"username\": \"zhuangwei\",\n",
    "            \"jobId\": \"j1\"\n",
    "        },\n",
    "        \"QoS\": {\n",
    "            \"useCache\": True\n",
    "        },\n",
    "        \"policy\": {\n",
    "            \"chunkSize\": 1024,\n",
    "            \"chunks\": [{\"key\": 1, \"location\": \"redis\"}, {\"key\": 2, \"location\": \"disk\"}]\n",
    "        }\n",
    "    },\n",
    "    {\n",
    "        \"meta\": {\n",
    "            \"username\": \"zhuangwei\",\n",
    "            \"jobId\": \"j2\"\n",
    "        },\n",
    "        \"QoS\": {\n",
    "            \"useCache\": True\n",
    "        },\n",
    "        \"policy\": {\n",
    "            \"chunkSize\": 1024,\n",
    "            \"chunks\": [{\"key\": 4, \"location\": \"redis\"}, {\"key\": 5, \"location\": \"disk\"}]\n",
    "        }\n",
    "    },\n",
    "    {\n",
    "        \"meta\": {\n",
    "            \"username\": \"zhuangwei\",\n",
    "            \"jobId\": \"j3\"\n",
    "        },\n",
    "        \"QoS\": {\n",
    "            \"useCache\": True\n",
    "        },\n",
    "        \"policy\": {\n",
    "            \"chunkSize\": 1024,\n",
    "            \"chunks\": [{\"key\": 3, \"location\": \"redis\"}, {\"key\": 6, \"location\": \"disk\"}]\n",
    "        }\n",
    "    }\n",
    "]"
   ]
  },
  {
   "cell_type": "code",
   "execution_count": 16,
   "metadata": {},
   "outputs": [
    {
     "data": {
      "text/plain": [
       "<pymongo.results.InsertManyResult at 0x7f9904a9e220>"
      ]
     },
     "execution_count": 16,
     "metadata": {},
     "output_type": "execute_result"
    }
   ],
   "source": [
    "job_col.insert_many(jobInfo)"
   ]
  },
  {
   "cell_type": "code",
   "execution_count": 179,
   "metadata": {},
   "outputs": [
    {
     "name": "stdout",
     "output_type": "stream",
     "text": [
      "{'_id': None, 'keys': [1, 3]}\n"
     ]
    }
   ],
   "source": [
    "result = job_col.aggregate([\n",
    "    {\"$unwind\": \"$policy.chunks\"},\n",
    "    {\"$project\": {\"_id\": 0, \"key\": \"$policy.chunks.key\",\n",
    "        \"chunks\": {\"$regexFind\": {\"input\": \"$policy.chunks.location\", \"regex\": \"^redis\", \"options\": \"m\"}}}},\n",
    "    {\"$match\": {\"chunks\": {\"$ne\": None}}},\n",
    "    {\"$sort\": {\"key\": 1}},\n",
    "    {\"$limit\": 2},\n",
    "    {\"$project\": {\"key\": 1}},\n",
    "    {\"$group\": {\"_id\": \"$_id\", \"keys\": {\"$push\": \"$key\"}}}\n",
    "])\n",
    "\n",
    "# print(list(result))\n",
    "for chunk in result:\n",
    "    print(chunk)"
   ]
  },
  {
   "cell_type": "code",
   "execution_count": 12,
   "metadata": {},
   "outputs": [
    {
     "name": "stdout",
     "output_type": "stream",
     "text": [
      "{'_id': ObjectId('62a3c36081267a5663a988bc'), 'meta': {'username': 'zhuangwei', 'jobId': 'j1'}, 'QoS': {'useCache': True}, 'policy': {'chunkSize': 1024, 'chunks': [{'key': 1, 'location': 'redis'}, {'key': 2, 'location': 'disk'}]}}\n"
     ]
    }
   ],
   "source": [
    "resp = job_col.find(filter={\"$and\": [{\"meta.username\": 'zhuangwei'}, {\"meta.jobId\": 'j1'}]})\n",
    "for obj in resp:\n",
    "    print(obj)"
   ]
  },
  {
   "cell_type": "code",
   "execution_count": 19,
   "metadata": {},
   "outputs": [
    {
     "data": {
      "text/plain": [
       "[{'_id': ObjectId('62a3c36081267a5663a988be'),\n",
       "  'meta': {'username': 'zhuangwei', 'jobId': 'j3'},\n",
       "  'QoS': {'useCache': True},\n",
       "  'policy': {'chunkSize': 1024,\n",
       "   'chunks': [{'key': 3, 'location': 'redis'},\n",
       "    {'key': 6, 'location': 'disk'}]}}]"
      ]
     },
     "execution_count": 19,
     "metadata": {},
     "output_type": "execute_result"
    }
   ],
   "source": [
    "resp = job_col.find({\"policy.chunks\": {\"$elemMatch\": {\"key\": 3}}})\n",
    "list(resp)"
   ]
  },
  {
   "cell_type": "code",
   "execution_count": 92,
   "metadata": {},
   "outputs": [
    {
     "data": {
      "text/plain": [
       "[{'chunk': {'key': 2, 'location': 'disk'}}]"
      ]
     },
     "execution_count": 92,
     "metadata": {},
     "output_type": "execute_result"
    }
   ],
   "source": [
    "resp = job_col.aggregate([\n",
    "    {\"$project\": {\n",
    "        \"_id\": 0, \n",
    "        \"chunk\": {\n",
    "            \"$filter\": {\n",
    "                \"input\": \"$policy.chunks\", \n",
    "                \"as\": \"chunks\", \n",
    "                \"cond\": {\"$eq\": [\"$$chunks.key\", 2]}}\n",
    "            }\n",
    "    }},\n",
    "    {\"$unwind\": \"$chunk\"}\n",
    "]).next()['chunk']\n",
    "list(resp)"
   ]
  },
  {
   "cell_type": "code",
   "execution_count": 15,
   "metadata": {},
   "outputs": [],
   "source": [
    "client_info = [\n",
    "    {\n",
    "        \"username\": \"user1\",\n",
    "        \"jobs\": [\"job1\", 'job2']\n",
    "    },\n",
    "    {\n",
    "        \"username\": \"user2\",\n",
    "        \"jobs\": [\"job3\", 'job4']\n",
    "    }\n",
    "]"
   ]
  },
  {
   "cell_type": "code",
   "execution_count": 16,
   "metadata": {},
   "outputs": [
    {
     "data": {
      "text/plain": [
       "<pymongo.results.InsertManyResult at 0x7f35d26d4490>"
      ]
     },
     "execution_count": 16,
     "metadata": {},
     "output_type": "execute_result"
    }
   ],
   "source": [
    "client_col.insert_many(client_info)"
   ]
  },
  {
   "cell_type": "code",
   "execution_count": null,
   "metadata": {},
   "outputs": [],
   "source": []
  }
 ],
 "metadata": {
  "kernelspec": {
   "display_name": "Python 3.8.10 64-bit",
   "language": "python",
   "name": "python3"
  },
  "language_info": {
   "codemirror_mode": {
    "name": "ipython",
    "version": 3
   },
   "file_extension": ".py",
   "mimetype": "text/x-python",
   "name": "python",
   "nbconvert_exporter": "python",
   "pygments_lexer": "ipython3",
   "version": "3.8.10"
  },
  "orig_nbformat": 4,
  "vscode": {
   "interpreter": {
    "hash": "31f2aee4e71d21fbe5cf8b01ff0e069b9275f58929596ceb00d14d90e3e16cd6"
   }
  }
 },
 "nbformat": 4,
 "nbformat_minor": 2
}
