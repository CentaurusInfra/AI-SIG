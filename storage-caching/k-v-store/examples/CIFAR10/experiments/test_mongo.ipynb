{
 "cells": [
  {
   "cell_type": "code",
   "execution_count": 14,
   "metadata": {},
   "outputs": [],
   "source": [
    "from pymongo.mongo_client import MongoClient\n",
    "\n",
    "client = MongoClient(host=\"localhost\", port=27017)\n",
    "job_col = client.Cacher.Job\n",
    "client_col = client.Cacher.Client"
   ]
  },
  {
   "cell_type": "code",
   "execution_count": 15,
   "metadata": {},
   "outputs": [],
   "source": [
    "client_info = [\n",
    "    {\n",
    "        \"username\": \"user1\",\n",
    "        \"jobs\": [\"job1\", 'job2']\n",
    "    },\n",
    "    {\n",
    "        \"username\": \"user2\",\n",
    "        \"jobs\": [\"job3\", 'job4']\n",
    "    }\n",
    "]"
   ]
  },
  {
   "cell_type": "code",
   "execution_count": 16,
   "metadata": {},
   "outputs": [
    {
     "data": {
      "text/plain": [
       "<pymongo.results.InsertManyResult at 0x7fa048a9dd00>"
      ]
     },
     "execution_count": 16,
     "metadata": {},
     "output_type": "execute_result"
    }
   ],
   "source": [
    "client_col.insert_many(client_info)"
   ]
  },
  {
   "cell_type": "code",
   "execution_count": 52,
   "metadata": {},
   "outputs": [],
   "source": [
    "jobInfo = [\n",
    "    {\n",
    "        \"meta\": {\n",
    "            \"username\": \"zhuangwei\",\n",
    "            \"jobId\": \"j1\"\n",
    "        },\n",
    "        \"QoS\": {\n",
    "            \"useCache\": True\n",
    "        },\n",
    "        \"policy\": {\n",
    "            \"chunkSize\": 1024,\n",
    "            \"chunks\": [{\"key\": 1, \"location\": \"redis\", \"hasBackup\": False}, {\"key\": 2, \"location\": \"disk\", \"hasBackup\": False}]\n",
    "        }\n",
    "    },\n",
    "    {\n",
    "        \"meta\": {\n",
    "            \"username\": \"zhuangwei\",\n",
    "            \"jobId\": \"j2\"\n",
    "        },\n",
    "        \"QoS\": {\n",
    "            \"useCache\": True\n",
    "        },\n",
    "        \"policy\": {\n",
    "            \"chunkSize\": 1024,\n",
    "            \"chunks\": [{\"key\": 4, \"location\": \"redis\", \"hasBackup\": False}, {\"key\": 5, \"location\": \"disk\", \"hasBackup\": False}]\n",
    "        }\n",
    "    },\n",
    "    {\n",
    "        \"meta\": {\n",
    "            \"username\": \"zhuangwei\",\n",
    "            \"jobId\": \"j3\"\n",
    "        },\n",
    "        \"QoS\": {\n",
    "            \"useCache\": True\n",
    "        },\n",
    "        \"policy\": {\n",
    "            \"chunkSize\": 1024,\n",
    "            \"chunks\": [{\"key\": 3, \"location\": \"redis\", \"hasBackup\": True}, {\"key\": 6, \"location\": \"disk\", \"hasBackup\": False}]\n",
    "        }\n",
    "    }\n",
    "]"
   ]
  },
  {
   "cell_type": "code",
   "execution_count": 53,
   "metadata": {},
   "outputs": [
    {
     "data": {
      "text/plain": [
       "<pymongo.results.InsertManyResult at 0x7fa017e1e850>"
      ]
     },
     "execution_count": 53,
     "metadata": {},
     "output_type": "execute_result"
    }
   ],
   "source": [
    "job_col.insert_many(jobInfo)"
   ]
  },
  {
   "cell_type": "code",
   "execution_count": 88,
   "metadata": {},
   "outputs": [
    {
     "data": {
      "text/plain": [
       "[1, 4]"
      ]
     },
     "execution_count": 88,
     "metadata": {},
     "output_type": "execute_result"
    }
   ],
   "source": [
    "pipeline = [\n",
    "    {\"$unwind\": \"$policy.chunks\"},\n",
    "    {\"$project\": {\n",
    "        \"_id\": 0, \n",
    "        \"key\": \"$policy.chunks.key\", \n",
    "        \"hasBackup\": \"$policy.chunks.hasBackup\",\n",
    "        \"chunk\": {\"$regexFind\": {\"input\": \"$policy.chunks.location\", \"regex\": \"^redis\", \"options\": \"m\"}}}\n",
    "    },\n",
    "    {\"$match\": {\"chunk\": {\"$ne\": None}}},\n",
    "    {\"$sort\": {\"key\": 1}},\n",
    "    {\"$limit\": 3},\n",
    "    {\"$match\": {\"hasBackup\": {\"$eq\": False}}},\n",
    "    {\"$project\": {\"key\": 1}},\n",
    "    {\"$group\": {\"_id\": \"$_id\", \"keys\": {\"$push\": \"$key\"}}},\n",
    "]\n",
    "\n",
    "backups = job_col.aggregate(pipeline).next()['keys']\n",
    "backups"
   ]
  },
  {
   "cell_type": "code",
   "execution_count": 116,
   "metadata": {},
   "outputs": [
    {
     "name": "stdout",
     "output_type": "stream",
     "text": [
      "<pymongo.results.UpdateResult object at 0x7fa068c161f0>\n"
     ]
    }
   ],
   "source": [
    "rlt = job_col.update_many(\n",
    "    {\"policy.chunks\": {\"$elemMatch\": {\"key\": {\"$in\": backups}}}},\n",
    "    {\"$set\": {\"policy.chunks.$.hasBackup\": True}}\n",
    ")\n",
    "\n",
    "print(rlt)"
   ]
  }
 ],
 "metadata": {
  "kernelspec": {
   "display_name": "Python 3.8.10 64-bit",
   "language": "python",
   "name": "python3"
  },
  "language_info": {
   "codemirror_mode": {
    "name": "ipython",
    "version": 3
   },
   "file_extension": ".py",
   "mimetype": "text/x-python",
   "name": "python",
   "nbconvert_exporter": "python",
   "pygments_lexer": "ipython3",
   "version": "3.8.10"
  },
  "orig_nbformat": 4,
  "vscode": {
   "interpreter": {
    "hash": "31f2aee4e71d21fbe5cf8b01ff0e069b9275f58929596ceb00d14d90e3e16cd6"
   }
  }
 },
 "nbformat": 4,
 "nbformat_minor": 2
}
