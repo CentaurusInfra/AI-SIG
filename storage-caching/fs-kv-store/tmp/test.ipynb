{
 "cells": [
  {
   "cell_type": "code",
   "execution_count": 50,
   "metadata": {},
   "outputs": [
    {
     "name": "stdout",
     "output_type": "stream",
     "text": [
      "['x11' 'x15' 'x4' 'x5' 'x16' 'x3' 'x10' 'x7' 'x2' 'x1' 'x13' 'x0' 'x12'\n",
      " 'x14' 'x6' 'x8' 'x9']\n",
      "[0, 1, 2, 3, 4]\n",
      "['x11', 'x15', 'x4', 'x5', 'x16']\n",
      "['x3', 'x10', 'x7', 'x2', 'x1']\n",
      "['x13', 'x0', 'x12', 'x14', 'x6']\n",
      "['x8', 'x9']\n"
     ]
    }
   ],
   "source": [
    "from sklearn.utils import shuffle\n",
    "from torch.utils.data import DataLoader, Dataset, BatchSampler, Subset, RandomSampler, SubsetRandomSampler\n",
    "import numpy as np\n",
    "import torch\n",
    "\n",
    "data = np.array(['x%d' % x for x in range(17)])\n",
    "class Dataset(Dataset):\n",
    "  def __init__(self, data):\n",
    "        self.data = data\n",
    "\n",
    "  def __len__(self):\n",
    "        return len(self.data)\n",
    "\n",
    "  def __getitem__(self, index):\n",
    "        return self.data[index]\n",
    "\n",
    "dataset = Dataset(data)\n",
    "np.random.shuffle(dataset.data)\n",
    "print(dataset.data)\n",
    "loader = DataLoader(dataset=dataset, batch_size=5, shuffle=False, num_workers=3)\n",
    "\n",
    "batch_indices = list(loader._index_sampler)\n",
    "print(batch_indices[0])\n",
    "\n",
    "for batch in loader:\n",
    "    print(batch)"
   ]
  },
  {
   "cell_type": "code",
   "execution_count": 51,
   "metadata": {},
   "outputs": [
    {
     "name": "stdout",
     "output_type": "stream",
     "text": [
      "['x11' 'x15' 'x4' 'x5' 'x16']\n",
      "['x3' 'x10' 'x7' 'x2' 'x1']\n",
      "['x13' 'x0' 'x12' 'x14' 'x6']\n",
      "['x8' 'x9']\n"
     ]
    }
   ],
   "source": [
    "for batch in loader._index_sampler:\n",
    "    print(data[batch])"
   ]
  }
 ],
 "metadata": {
  "kernelspec": {
   "display_name": "Python 3.8.10 64-bit",
   "language": "python",
   "name": "python3"
  },
  "language_info": {
   "name": "python",
   "version": "3.8.10"
  },
  "orig_nbformat": 4,
  "vscode": {
   "interpreter": {
    "hash": "31f2aee4e71d21fbe5cf8b01ff0e069b9275f58929596ceb00d14d90e3e16cd6"
   }
  }
 },
 "nbformat": 4,
 "nbformat_minor": 2
}
